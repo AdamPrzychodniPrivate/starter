{
 "cells": [
  {
   "cell_type": "markdown",
   "metadata": {
    "canvas": {
     "comments": [],
     "componentType": "CodeCell",
     "copiedOriginId": null,
     "diskcache": false,
     "headerColor": "transparent",
     "id": "aec900f5-70c9-4f78-b3bf-fffecee8ce60",
     "isComponent": false,
     "name": "",
     "parents": []
    },
    "tags": []
   },
   "source": [
    "# Plan\n",
    "1.\n",
    "2.\n",
    "3."
   ]
  },
  {
   "cell_type": "markdown",
   "metadata": {
    "canvas": {
     "comments": [],
     "componentType": "CodeCell",
     "copiedOriginId": null,
     "diskcache": false,
     "headerColor": "transparent",
     "id": "e2b6ab91-3b90-499b-b28b-2d6e2f2e9425",
     "isComponent": false,
     "name": "",
     "parents": []
    }
   },
   "source": [
    "# Project Structure:\n",
    "1. Abstract\n",
    "2. Load data\n",
    "3. EDA\n",
    "4. Preprocess data\n",
    "5. Feature engineering\n",
    "6. Train, test split\n",
    "7. Modelling\n",
    "8. Model evaluation\n",
    "9. Hyperparameter tuning \n",
    "10. Model Interpretation \n",
    "11. Results and conclusions\n",
    "12. References and Acknowledgments"
   ]
  },
  {
   "cell_type": "markdown",
   "metadata": {
    "canvas": {
     "comments": [],
     "componentType": "CodeCell",
     "copiedOriginId": null,
     "diskcache": false,
     "headerColor": "transparent",
     "id": "2875feb1-5af6-4993-b31b-e038e2498723",
     "isComponent": false,
     "name": "",
     "parents": []
    }
   },
   "source": [
    "# My building blocks for modeling \n",
    "## - EDA\n",
    "## - Preprocessing\n",
    "## - Feature engineering \n",
    "## - Training\n",
    "## - Evaluation"
   ]
  },
  {
   "cell_type": "markdown",
   "metadata": {
    "canvas": {
     "comments": [],
     "componentType": "CodeCell",
     "copiedOriginId": null,
     "diskcache": false,
     "headerColor": "transparent",
     "id": "fd6fc6cf-a02b-4950-a7d1-cec4278105a5",
     "isComponent": false,
     "name": "",
     "parents": []
    }
   },
   "source": [
    "# Abstract"
   ]
  },
  {
   "cell_type": "markdown",
   "metadata": {
    "canvas": {
     "comments": [],
     "componentType": "CodeCell",
     "copiedOriginId": null,
     "diskcache": false,
     "headerColor": "transparent",
     "id": "3843556e-ca86-475a-85f5-a15d03690e69",
     "isComponent": false,
     "name": "",
     "parents": []
    }
   },
   "source": []
  },
  {
   "cell_type": "markdown",
   "metadata": {
    "canvas": {
     "comments": [],
     "componentType": "CodeCell",
     "copiedOriginId": null,
     "diskcache": false,
     "headerColor": "transparent",
     "id": "44ef7fb4-c232-4e0c-b047-d2de204465bd",
     "isComponent": false,
     "name": "",
     "parents": []
    }
   },
   "source": [
    "# Import libraries"
   ]
  },
  {
   "cell_type": "code",
   "execution_count": null,
   "metadata": {
    "canvas": {
     "comments": [],
     "componentType": "CodeCell",
     "copiedOriginId": null,
     "diskcache": false,
     "headerColor": "transparent",
     "id": "ea9fa070-5a7c-4bdd-abb3-5776a6f8ab2e",
     "isComponent": false,
     "name": "",
     "parents": []
    }
   },
   "outputs": [],
   "source": [
    "import polars as pl\n",
    "import numpy as np\n",
    "import pandas as pd\n",
    "from ydata_profiling import ProfileReport\n",
    "import polars as pl\n",
    "import numpy as np\n",
    "import pandas as pd\n",
    "from ydata_profiling import ProfileReport\n",
    "import plotly.graph_objects as go\n",
    "import plotly.express as px\n",
    "import plotly.figure_factory as ff\n",
    "\n",
    "pd.set_option('display.max_columns', None)"
   ]
  },
  {
   "cell_type": "markdown",
   "metadata": {
    "canvas": {
     "comments": [],
     "componentType": "CodeCell",
     "copiedOriginId": null,
     "diskcache": false,
     "headerColor": "transparent",
     "id": "c97fc0a7-9897-45ef-9c2e-17b9230f3d7c",
     "isComponent": false,
     "name": "",
     "parents": []
    }
   },
   "source": [
    "# Load data"
   ]
  },
  {
   "cell_type": "code",
   "execution_count": null,
   "metadata": {
    "canvas": {
     "comments": [],
     "componentType": "CodeCell",
     "copiedOriginId": null,
     "diskcache": false,
     "headerColor": "transparent",
     "id": "cddecebd-6b1b-40a8-8989-2bec7cb6138c",
     "isComponent": false,
     "name": "",
     "parents": []
    }
   },
   "outputs": [],
   "source": [
    "catalog.list()"
   ]
  },
  {
   "cell_type": "code",
   "execution_count": null,
   "metadata": {
    "canvas": {
     "comments": [],
     "componentType": "CodeCell",
     "copiedOriginId": null,
     "diskcache": false,
     "headerColor": "transparent",
     "id": "50f371d4-a79f-42fb-92fe-47adcf8bae98",
     "isComponent": false,
     "name": "",
     "parents": []
    }
   },
   "outputs": [],
   "source": [
    "# Load whole raw data\n",
    "df = catalog.load(\"data_from_catalog\")"
   ]
  },
  {
   "cell_type": "markdown",
   "metadata": {
    "canvas": {
     "comments": [],
     "componentType": "CodeCell",
     "copiedOriginId": null,
     "diskcache": false,
     "headerColor": "transparent",
     "id": "0cf5258b-0892-4c8c-b0df-c7307a55a30e",
     "isComponent": false,
     "name": "",
     "parents": []
    }
   },
   "source": [
    "## Load parametrs"
   ]
  },
  {
   "cell_type": "code",
   "execution_count": null,
   "metadata": {
    "canvas": {
     "comments": [],
     "componentType": "CodeCell",
     "copiedOriginId": null,
     "diskcache": false,
     "headerColor": "transparent",
     "id": "a4513f67-cb9a-47fd-90fb-616228d9dc51",
     "isComponent": false,
     "name": "",
     "parents": []
    }
   },
   "outputs": [],
   "source": [
    "features = catalog.load(\"params:feature_options\")"
   ]
  },
  {
   "cell_type": "code",
   "execution_count": null,
   "metadata": {
    "canvas": {
     "comments": [],
     "componentType": "CodeCell",
     "copiedOriginId": null,
     "diskcache": false,
     "headerColor": "transparent",
     "id": "4de99a2b-a84f-4283-a42d-01de9ab12f42",
     "isComponent": false,
     "name": "",
     "parents": []
    }
   },
   "outputs": [],
   "source": [
    "features"
   ]
  },
  {
   "cell_type": "code",
   "execution_count": null,
   "metadata": {
    "canvas": {
     "comments": [],
     "componentType": "CodeCell",
     "copiedOriginId": null,
     "diskcache": false,
     "headerColor": "transparent",
     "id": "1131bbcd-1726-4623-aa50-7865b0e301b0",
     "isComponent": false,
     "name": "",
     "parents": []
    }
   },
   "outputs": [],
   "source": [
    "# Use only features which are define in ../conf/base/parameters/...\n",
    "df = df[parameters[\"features\"]]"
   ]
  },
  {
   "cell_type": "code",
   "execution_count": null,
   "outputs": [],
   "source": [
    "# make the function where i am choosing if i am lodaing data throgh kedro catalog or through traditional way from a file and also extension for files\n",
    "\n",
    "# # Define the path to the Excel file\n",
    "# file_path = '../data/01_raw/IWA-External-Scope-3-Data.xlsx'\n",
    "# \n",
    "# # Read the Excel file, specifying the sheet name\n",
    "# df = pd.read_excel(file_path, sheet_name='3%')\n",
    "# \n",
    "# import yaml\n",
    "# \n",
    "# # Define the path to the YAML file\n",
    "# yaml_file_path = '../conf/base/parameters/data_processing.yml'\n",
    "# \n",
    "# # Load the YAML file\n",
    "# with open(yaml_file_path, 'r') as file:\n",
    "#     data_processing_config = yaml.safe_load(file)\n",
    "# \n",
    "# # Extract the features list\n",
    "# features_list = data_processing_config['feature_options']['features']\n",
    "# \n",
    "# # Construct the desired dictionary format\n",
    "# features = {'features': features_list}"
   ],
   "metadata": {
    "collapsed": false
   }
  },
  {
   "cell_type": "markdown",
   "metadata": {
    "canvas": {
     "comments": [],
     "componentType": "CodeCell",
     "copiedOriginId": null,
     "diskcache": false,
     "headerColor": "transparent",
     "id": "8abc2ddf-4d66-4f0e-aa26-78cf7ec73b0f",
     "isComponent": false,
     "name": "",
     "parents": []
    }
   },
   "source": [
    "# EDA"
   ]
  },
  {
   "cell_type": "markdown",
   "metadata": {
    "canvas": {
     "comments": [],
     "componentType": "CodeCell",
     "copiedOriginId": null,
     "diskcache": false,
     "headerColor": "transparent",
     "id": "e658fdf9-d489-4d7b-b03f-884bfd62df42",
     "isComponent": false,
     "name": "",
     "parents": []
    }
   },
   "source": [
    "## Data profiling"
   ]
  },
  {
   "cell_type": "code",
   "execution_count": null,
   "metadata": {
    "canvas": {
     "comments": [],
     "componentType": "CodeCell",
     "copiedOriginId": null,
     "diskcache": false,
     "headerColor": "transparent",
     "id": "14b805c4-8276-46b4-a446-667900eccd6c",
     "isComponent": false,
     "name": "",
     "parents": []
    }
   },
   "outputs": [],
   "source": [
    "# also in this function i want that i am choosing only one column or few columns for that \n",
    "\n",
    "def data_profiling(df: pd.DataFrame, name: str=\"data_profiling_report\", interface: str=\"html\") -> None:\n",
    "  \"\"\"\n",
    "  This function generates a data profiling report using the pandas_profiling package.\n",
    "  \n",
    "  Args:\n",
    "      df (pd.DataFrame): The DataFrame to profile.\n",
    "      name (str, optional): The title of the profile report. Defaults to \"data_profiling_report\".\n",
    "      interface (str, optional): The format of the report. Defaults to \"html\".\n",
    "                                  Choose between 'html' or 'widget'.\n",
    "  \n",
    "  Raises:\n",
    "      ValueError: If df is not a pandas DataFrame or name is not a string or \n",
    "                  if interface is not 'html' or 'widget'\n",
    "  \"\"\"\n",
    "  \n",
    "  # Check if df is a pandas DataFrame\n",
    "  if not isinstance(df, pd.DataFrame):\n",
    "    raise ValueError(\"df should be a pandas DataFrame\")\n",
    "    \n",
    "  # Check if name is a string\n",
    "  if not isinstance(name, str):\n",
    "    raise ValueError(\"name should be a string\")\n",
    "  \n",
    "  # Check if interface is a string and a valid option\n",
    "  if not isinstance(interface, str) or interface not in ['html', 'widget']:\n",
    "    raise ValueError(\"interface should be a string, either 'html' or 'widget'\")\n",
    "  \n",
    "  profile = ProfileReport(df, title=name, explorative=True)\n",
    "\n",
    "  if interface == \"html\":\n",
    "    profile.to_file(f\"{name}.html\")\n",
    "    logging.info(f\"Report {name} generated in html format, check files.\")\n",
    "    \n",
    "  elif interface == \"widget\":\n",
    "    logging.info(f\"Report {name} will be generated as a widget, it might take a while.\")\n",
    "    profile.to_widgets()"
   ]
  },
  {
   "cell_type": "code",
   "execution_count": null,
   "metadata": {
    "canvas": {
     "comments": [],
     "componentType": "CodeCell",
     "copiedOriginId": null,
     "diskcache": false,
     "headerColor": "transparent",
     "id": "25a9b202-fbb2-44df-835e-0fb672f35f69",
     "isComponent": false,
     "name": "",
     "parents": []
    }
   },
   "outputs": [],
   "source": [
    "# Generate the data profiling report in HTML format\n",
    "# data_profiling(df)"
   ]
  },
  {
   "cell_type": "code",
   "execution_count": null,
   "outputs": [],
   "source": [
    "# maybe I will write function which will generate diffrent plotly graphs "
   ],
   "metadata": {
    "collapsed": false
   }
  },
  {
   "cell_type": "code",
   "execution_count": null,
   "outputs": [],
   "source": [
    "# also add steps based on book basics statistics "
   ],
   "metadata": {
    "collapsed": false
   }
  },
  {
   "cell_type": "markdown",
   "metadata": {
    "canvas": {
     "comments": [],
     "componentType": "CodeCell",
     "copiedOriginId": null,
     "diskcache": false,
     "headerColor": "transparent",
     "id": "e6fce200-b285-47bc-b192-e80004847b2d",
     "isComponent": false,
     "name": "",
     "parents": []
    }
   },
   "source": [
    "# Preprocessing"
   ]
  },
  {
   "cell_type": "markdown",
   "metadata": {
    "canvas": {
     "comments": [],
     "componentType": "CodeCell",
     "copiedOriginId": null,
     "diskcache": false,
     "headerColor": "transparent",
     "id": "884150a9-6a38-489e-bda2-b6639806f494",
     "isComponent": false,
     "name": "",
     "parents": []
    }
   },
   "source": [
    "## Remove rows with missing values"
   ]
  },
  {
   "cell_type": "code",
   "execution_count": null,
   "metadata": {
    "canvas": {
     "comments": [],
     "componentType": "CodeCell",
     "copiedOriginId": null,
     "diskcache": false,
     "headerColor": "transparent",
     "id": "ee3a895a-c60d-4614-93cf-e8850f00f06c",
     "isComponent": false,
     "name": "",
     "parents": []
    }
   },
   "outputs": [],
   "source": [
    "# Count missing values in each column\n",
    "missing_values_per_column = df.isna().sum()\n",
    "print(\"Missing values per column:\")\n",
    "print(missing_values_per_column)\n",
    "\n",
    "# Count total missing values in the DataFrame\n",
    "total_missing_values = df.isna().sum().sum()\n",
    "print(f\"Total missing values: {total_missing_values}\")"
   ]
  },
  {
   "cell_type": "code",
   "execution_count": null,
   "metadata": {
    "canvas": {
     "comments": [],
     "componentType": "CodeCell",
     "copiedOriginId": null,
     "diskcache": false,
     "headerColor": "transparent",
     "id": "4ec8ade0-8532-4e5c-842c-16d59305aeb5",
     "isComponent": false,
     "name": "",
     "parents": []
    }
   },
   "outputs": [],
   "source": [
    "from typing import List, Union\n",
    "\n",
    "def _remove_rows_with_missing_values(df: pd.DataFrame, columns: Union[str, List[str]] = None) -> pd.DataFrame:\n",
    "    \"\"\"\n",
    "    Remove all rows containing missing values either from the whole DataFrame or from specific columns.\n",
    "\n",
    "    Args:\n",
    "        df (pd.DataFrame): Input DataFrame.\n",
    "        columns (Union[str, List[str]], optional): Column or list of columns to consider for row removal. \n",
    "                                                   If None, consider all columns. Default is None.\n",
    "    \n",
    "    Returns:\n",
    "        pd.DataFrame: DataFrame with rows containing missing values removed.\n",
    "    \"\"\"\n",
    "    \n",
    "    if columns is not None:\n",
    "        return df.dropna(subset=columns)\n",
    "    else:\n",
    "        return df.dropna()"
   ]
  },
  {
   "cell_type": "code",
   "execution_count": null,
   "metadata": {
    "canvas": {
     "comments": [],
     "componentType": "CodeCell",
     "copiedOriginId": null,
     "diskcache": false,
     "headerColor": "transparent",
     "id": "e58922e7-0d9b-42c9-8be2-03d4880ae477",
     "isComponent": false,
     "name": "",
     "parents": []
    }
   },
   "outputs": [],
   "source": [
    "# Remove rows with missing values from whole DataFrame\n",
    "# df = _remove_rows_with_missing_values(df)\n",
    "\n",
    "# Remove rows with missing values only from columns A and B\n",
    "# df = _remove_rows_with_missing_values(df, columns=['A', 'B'])"
   ]
  },
  {
   "cell_type": "markdown",
   "metadata": {
    "canvas": {
     "comments": [],
     "componentType": "CodeCell",
     "copiedOriginId": null,
     "diskcache": false,
     "headerColor": "transparent",
     "id": "3f2a77ab-af55-4f93-b564-1ff1b5d3f20d",
     "isComponent": false,
     "name": "",
     "parents": []
    }
   },
   "source": [
    "## Impute missing values"
   ]
  },
  {
   "cell_type": "markdown",
   "metadata": {
    "canvas": {
     "comments": [],
     "componentType": "CodeCell",
     "copiedOriginId": null,
     "diskcache": false,
     "headerColor": "transparent",
     "id": "025ce395-c7b0-4d5b-9f47-2222fc808359",
     "isComponent": false,
     "name": "",
     "parents": []
    }
   },
   "source": [
    "### Simple impution with mean, median or zero"
   ]
  },
  {
   "cell_type": "code",
   "execution_count": null,
   "metadata": {
    "canvas": {
     "comments": [],
     "componentType": "CodeCell",
     "copiedOriginId": null,
     "diskcache": false,
     "headerColor": "transparent",
     "id": "5450fcb9-6a7f-420b-b81b-78bff5b25cba",
     "isComponent": false,
     "name": "",
     "parents": []
    }
   },
   "outputs": [],
   "source": [
    "from typing import List, Union\n",
    "\n",
    "def _impute_missing_values(df: pd.DataFrame, columns: Union[List[str], str], strategy: str = 'mean') -> pd.DataFrame:\n",
    "    \"\"\"\n",
    "    Impute missing values in specific columns of a DataFrame.\n",
    "\n",
    "    Args:\n",
    "        df (pd.DataFrame): Input DataFrame.\n",
    "        columns (Union[List[str], str]): Column or columns in which to impute missing values.\n",
    "        strategy (str, optional): The imputation strategy. Options are 'mean', 'median', 'mode', and 'zero'. Defaults to 'mean'.\n",
    "\n",
    "    Returns:\n",
    "        pd.DataFrame: DataFrame with missing values imputed in the specified columns.\n",
    "    \"\"\"\n",
    "\n",
    "    if not isinstance(columns, list):\n",
    "        columns = [columns]\n",
    "        \n",
    "    for column in columns:\n",
    "        if strategy == 'mean':\n",
    "            df[column].fillna(df[column].mean(), inplace=True)\n",
    "        elif strategy == 'median':\n",
    "            df[column].fillna(df[column].median(), inplace=True)\n",
    "        elif strategy == 'mode':\n",
    "            df[column].fillna(df[column].mode()[0], inplace=True)\n",
    "        elif strategy == 'zero':\n",
    "            df[column].fillna(0, inplace=True)\n",
    "\n",
    "    return df"
   ]
  },
  {
   "cell_type": "code",
   "execution_count": 1,
   "metadata": {
    "canvas": {
     "comments": [],
     "componentType": "CodeCell",
     "copiedOriginId": null,
     "diskcache": false,
     "headerColor": "transparent",
     "id": "14cea9dd-b401-49d4-80f0-93534c675666",
     "isComponent": false,
     "name": "",
     "parents": []
    }
   },
   "outputs": [],
   "source": [
    "# Impute missing values in columns 'A' and 'B' using the 'mean' strategy\n",
    "# df_imputed = _impute_missing_values(df.copy(), ['A', 'B'], 'mean')"
   ]
  },
  {
   "cell_type": "markdown",
   "metadata": {
    "canvas": {
     "comments": [],
     "componentType": "CodeCell",
     "copiedOriginId": null,
     "diskcache": false,
     "headerColor": "transparent",
     "id": "65253c28-1593-41de-9507-5e78c16a7068",
     "isComponent": false,
     "name": "",
     "parents": []
    }
   },
   "source": [
    "## Regression imputation"
   ]
  },
  {
   "cell_type": "code",
   "execution_count": null,
   "metadata": {
    "canvas": {
     "comments": [],
     "componentType": "CodeCell",
     "copiedOriginId": null,
     "diskcache": false,
     "headerColor": "transparent",
     "id": "00b4fe1e-d61a-416e-92f7-2ee99cc13122",
     "isComponent": false,
     "name": "",
     "parents": []
    }
   },
   "outputs": [],
   "source": [
    "from sklearn.linear_model import LinearRegression\n",
    "import numpy as np\n",
    "import pandas as pd\n",
    "\n",
    "def regression_impute(df: pd.DataFrame, target_column: str, feature_columns: list) -> pd.DataFrame:\n",
    "    \"\"\"\n",
    "    Impute missing values in a target column using regression on feature columns.\n",
    "\n",
    "    Args:\n",
    "        df (pd.DataFrame): Input DataFrame.\n",
    "        target_column (str): The column in which to impute missing values.\n",
    "        feature_columns (list): List of feature columns to use for imputation.\n",
    "\n",
    "    Returns:\n",
    "        pd.DataFrame: DataFrame with missing values imputed in the target column.\n",
    "    \"\"\"\n",
    "    \n",
    "    # Create separate dataframes for rows with missing and non-missing target values\n",
    "    df_missing = df[df[target_column].isna()]\n",
    "    df_not_missing = df.dropna(subset=[target_column])\n",
    "    \n",
    "    # Separate features and target for rows without missing target values\n",
    "    X_train = df_not_missing[feature_columns]\n",
    "    y_train = df_not_missing[target_column]\n",
    "    \n",
    "    # Fit a linear regression model\n",
    "    model = LinearRegression()\n",
    "    model.fit(X_train, y_train)\n",
    "    \n",
    "    # Predict target values for rows with missing target values\n",
    "    X_missing = df_missing[feature_columns]\n",
    "    y_pred = model.predict(X_missing)\n",
    "    \n",
    "    # Impute the predicted values back into the original dataframe\n",
    "    df.loc[df[target_column].isna(), target_column] = y_pred\n",
    "\n",
    "    return df\n"
   ]
  },
  {
   "cell_type": "code",
   "execution_count": null,
   "metadata": {
    "canvas": {
     "comments": [],
     "componentType": "CodeCell",
     "copiedOriginId": null,
     "diskcache": false,
     "headerColor": "transparent",
     "id": "db9a340b-4d6d-45b5-b466-467b58cb88ad",
     "isComponent": false,
     "name": "",
     "parents": []
    }
   },
   "outputs": [],
   "source": [
    "# Example usage:\n",
    "# Assume df is your DataFrame, 'age' is the column with missing values and ['income', 'education'] are features.\n",
    "# df = regression_impute(df, 'age', ['income', 'education'])"
   ]
  },
  {
   "cell_type": "markdown",
   "metadata": {
    "canvas": {
     "comments": [],
     "componentType": "CodeCell",
     "copiedOriginId": null,
     "diskcache": false,
     "headerColor": "transparent",
     "id": "247b8250-efc2-455c-ad97-73657f3f6049",
     "isComponent": false,
     "name": "",
     "parents": []
    }
   },
   "source": [
    "## Outliers detection"
   ]
  },
  {
   "cell_type": "code",
   "execution_count": 2,
   "metadata": {
    "canvas": {
     "comments": [],
     "componentType": "CodeCell",
     "copiedOriginId": null,
     "diskcache": false,
     "headerColor": "transparent",
     "id": "d0b15ed9-c945-4b5e-8bc8-ff47c323b7c4",
     "isComponent": false,
     "name": "",
     "parents": []
    }
   },
   "outputs": [
    {
     "ename": "NameError",
     "evalue": "name 'pd' is not defined",
     "output_type": "error",
     "traceback": [
      "\u001B[0;31m---------------------------------------------------------------------------\u001B[0m",
      "\u001B[0;31mNameError\u001B[0m                                 Traceback (most recent call last)",
      "Cell \u001B[0;32mIn[2], line 3\u001B[0m\n\u001B[1;32m      1\u001B[0m \u001B[38;5;28;01mfrom\u001B[39;00m \u001B[38;5;21;01msklearn\u001B[39;00m\u001B[38;5;21;01m.\u001B[39;00m\u001B[38;5;21;01mensemble\u001B[39;00m \u001B[38;5;28;01mimport\u001B[39;00m IsolationForest\n\u001B[0;32m----> 3\u001B[0m \u001B[38;5;28;01mdef\u001B[39;00m \u001B[38;5;21m_remove_outliers_isolation_forest\u001B[39m(df: \u001B[43mpd\u001B[49m\u001B[38;5;241m.\u001B[39mDataFrame, contamination: \u001B[38;5;28mfloat\u001B[39m \u001B[38;5;241m=\u001B[39m \u001B[38;5;241m0.2\u001B[39m) \u001B[38;5;241m-\u001B[39m\u001B[38;5;241m>\u001B[39m pd\u001B[38;5;241m.\u001B[39mDataFrame:\n\u001B[1;32m      4\u001B[0m \u001B[38;5;250m    \u001B[39m\u001B[38;5;124;03m\"\"\"\u001B[39;00m\n\u001B[1;32m      5\u001B[0m \u001B[38;5;124;03m    Remove outliers using the Isolation Forest algorithm.\u001B[39;00m\n\u001B[1;32m      6\u001B[0m \n\u001B[0;32m   (...)\u001B[0m\n\u001B[1;32m     12\u001B[0m \u001B[38;5;124;03m        pd.DataFrame: DataFrame with outliers removed.\u001B[39;00m\n\u001B[1;32m     13\u001B[0m \u001B[38;5;124;03m    \"\"\"\u001B[39;00m\n\u001B[1;32m     15\u001B[0m     \u001B[38;5;66;03m# Identify numerical columns\u001B[39;00m\n",
      "\u001B[0;31mNameError\u001B[0m: name 'pd' is not defined"
     ]
    }
   ],
   "source": [
    "from sklearn.ensemble import IsolationForest\n",
    "\n",
    "def _remove_outliers_isolation_forest(df: pd.DataFrame, contamination: float = 0.2) -> pd.DataFrame:\n",
    "    \"\"\"\n",
    "    Remove outliers using the Isolation Forest algorithm.\n",
    "\n",
    "    Args:\n",
    "        df (pd.DataFrame): Input DataFrame with numerical columns.\n",
    "        contamination (float): Proportion of outliers in the dataset.\n",
    "    \n",
    "    Returns:\n",
    "        pd.DataFrame: DataFrame with outliers removed.\n",
    "    \"\"\"\n",
    "\n",
    "    # Identify numerical columns\n",
    "    numerical_cols = df.select_dtypes(include=['number']).columns\n",
    "\n",
    "    # Initialize the IsolationForest model\n",
    "    clf = IsolationForest(contamination=contamination) \n",
    "\n",
    "    # Fit the model on numerical columns\n",
    "    clf.fit(df[numerical_cols])\n",
    "\n",
    "    # Get outlier predictions\n",
    "    outlier_predictions = clf.predict(df[numerical_cols])\n",
    "\n",
    "    # Remove outliers from the original DataFrame based on the predictions\n",
    "    df_filtered = df[outlier_predictions == 1]\n",
    "\n",
    "    return df_filtered"
   ]
  },
  {
   "cell_type": "code",
   "execution_count": null,
   "metadata": {
    "canvas": {
     "comments": [],
     "componentType": "CodeCell",
     "copiedOriginId": null,
     "diskcache": false,
     "headerColor": "transparent",
     "id": "6ded5017-c9e3-4e36-8210-b556e73a5b5a",
     "isComponent": false,
     "name": "",
     "parents": []
    }
   },
   "outputs": [],
   "source": [
    "def preprocess_data(data: pd.DataFrame, parameters: Dict) -> pd.DataFrame:\n",
    "    \"\"\"Preprocesses data.\n",
    "\n",
    "    Args:\n",
    "        data: Raw data.\n",
    "        \n",
    "    Returns:\n",
    "        Preprocessed data, with missing values removed.\n",
    "    \"\"\"\n",
    "    # Example\n",
    "    df = data[parameters[\"features\"]]\n",
    "    df = _remove_missing_values(df)\n",
    "    df = _remove_outliers_isolation_forest(df)\n",
    "    preprocessed_data = df\n",
    "    \n",
    "    return preprocessed_data"
   ]
  },
  {
   "cell_type": "code",
   "execution_count": null,
   "metadata": {
    "canvas": {
     "comments": [],
     "componentType": "CodeCell",
     "copiedOriginId": null,
     "diskcache": false,
     "headerColor": "transparent",
     "id": "71c4a2c8-b4d7-482d-a160-73828e350237",
     "isComponent": false,
     "name": "",
     "parents": []
    }
   },
   "outputs": [],
   "source": [
    "preprocessed_df = preprocess_data(df, features)"
   ]
  },
  {
   "cell_type": "markdown",
   "metadata": {
    "canvas": {
     "comments": [],
     "componentType": "CodeCell",
     "copiedOriginId": null,
     "diskcache": false,
     "headerColor": "transparent",
     "id": "43280a72-d339-4f0a-8501-2eadf0b2eec2",
     "isComponent": false,
     "name": "",
     "parents": []
    }
   },
   "source": [
    "# Feature engineering"
   ]
  },
  {
   "cell_type": "markdown",
   "metadata": {
    "canvas": {
     "comments": [],
     "componentType": "CodeCell",
     "copiedOriginId": null,
     "diskcache": false,
     "headerColor": "transparent",
     "id": "86c1d8cc-39b1-4efa-b372-e8b3060e9be5",
     "isComponent": false,
     "name": "",
     "parents": []
    }
   },
   "source": [
    "## Encoding Categorical Variables"
   ]
  },
  {
   "cell_type": "code",
   "execution_count": null,
   "metadata": {
    "canvas": {
     "comments": [],
     "componentType": "CodeCell",
     "copiedOriginId": null,
     "diskcache": false,
     "headerColor": "transparent",
     "id": "bd1d931c-37b6-4a95-a909-e65a910078e3",
     "isComponent": false,
     "name": "",
     "parents": []
    }
   },
   "outputs": [],
   "source": [
    "def _one_hot_encode(df: pd.DataFrame) -> pd.DataFrame:\n",
    "    # One-hot encode 'Country' and 'Industry (Exiobase)' columns\n",
    "    df_encoded = pd.get_dummies(df, columns=['Industry (Exiobase)'])\n",
    "    return df_encoded"
   ]
  },
  {
   "cell_type": "markdown",
   "metadata": {
    "canvas": {
     "comments": [],
     "componentType": "CodeCell",
     "copiedOriginId": null,
     "diskcache": false,
     "headerColor": "transparent",
     "id": "bda5b701-366c-4987-bb08-a57ccf05ecad",
     "isComponent": false,
     "name": "",
     "parents": []
    }
   },
   "source": [
    "## Normalization/Standardization "
   ]
  },
  {
   "cell_type": "code",
   "execution_count": null,
   "metadata": {
    "canvas": {
     "comments": [],
     "componentType": "CodeCell",
     "copiedOriginId": null,
     "diskcache": false,
     "headerColor": "transparent",
     "id": "678823f3-e419-4e83-8d15-7a11f0470799",
     "isComponent": false,
     "name": "",
     "parents": []
    }
   },
   "outputs": [],
   "source": [
    "def _normalization(df: pd.DataFrame) -> pd.DataFrame:\n",
    "    # Create the scaler\n",
    "    scaler_standard = StandardScaler()\n",
    "\n",
    "    # Fit the scaler to the data (excluding categorical data if not already encoded)\n",
    "    df_normalized_standard = pd.DataFrame(scaler_standard.fit_transform(df), columns=df.columns)\n",
    "    \n",
    "    return df_normalized_standard"
   ]
  },
  {
   "cell_type": "code",
   "execution_count": null,
   "metadata": {
    "canvas": {
     "comments": [],
     "componentType": "CodeCell",
     "copiedOriginId": null,
     "diskcache": false,
     "headerColor": "transparent",
     "id": "bd405a2c-b683-4222-90c8-3913cfbfd5f4",
     "isComponent": false,
     "name": "",
     "parents": []
    }
   },
   "outputs": [],
   "source": [
    "def feature_engineering(df: pd.DataFrame) -> pd.DataFrame:\n",
    "    \"\"\"\n",
    "    Conducts feature engineering on the given DataFrame.\n",
    "\n",
    "    Steps:\n",
    "    1. One-Hot Encoding: One-hot encodes categorical features.\n",
    "    2. Normalization: Standardizes the feature values.\n",
    "    ...\n",
    "\n",
    "    Args:\n",
    "        df: Original DataFrame.\n",
    "\n",
    "    Returns:\n",
    "        df_feature_engineered: DataFrame after feature engineering.\n",
    "    \"\"\"\n",
    "\n",
    "    df = _one_hot_encode(df)\n",
    "    df = _normalization(df)\n",
    "    df_feature_engineered = df\n",
    "\n",
    "    return df_feature_engineered"
   ]
  },
  {
   "cell_type": "code",
   "execution_count": null,
   "metadata": {
    "canvas": {
     "comments": [],
     "componentType": "CodeCell",
     "copiedOriginId": null,
     "diskcache": false,
     "headerColor": "transparent",
     "id": "5261e00b-8d11-435e-9aa5-e2d7cad6b1f4",
     "isComponent": false,
     "name": "",
     "parents": []
    }
   },
   "outputs": [],
   "source": [
    "df_feature_engineered = feature_engineering(preprocessed_df)"
   ]
  },
  {
   "cell_type": "markdown",
   "metadata": {
    "canvas": {
     "comments": [],
     "componentType": "CodeCell",
     "copiedOriginId": null,
     "diskcache": false,
     "headerColor": "transparent",
     "id": "a53d05b9-81f4-47ee-96c3-8cacfa712a1a",
     "isComponent": false,
     "name": "",
     "parents": []
    }
   },
   "source": [
    "# Training"
   ]
  },
  {
   "cell_type": "markdown",
   "metadata": {
    "canvas": {
     "comments": [],
     "componentType": "CodeCell",
     "copiedOriginId": null,
     "diskcache": false,
     "headerColor": "transparent",
     "id": "2565176d-cd0f-4a5e-9384-f9162a9d8fa6",
     "isComponent": false,
     "name": "",
     "parents": []
    }
   },
   "source": [
    "## Train, test split"
   ]
  },
  {
   "cell_type": "code",
   "execution_count": null,
   "metadata": {
    "canvas": {
     "comments": [],
     "componentType": "CodeCell",
     "copiedOriginId": null,
     "diskcache": false,
     "headerColor": "transparent",
     "id": "fcddec1f-ec0a-4cb2-946e-f01149c1b2b8",
     "isComponent": false,
     "name": "",
     "parents": []
    }
   },
   "outputs": [],
   "source": [
    "def split_data(data: pd.DataFrame, model_options: Dict) -> Tuple:\n",
    "    \"\"\"Splits data into features and targets training and test sets.\n",
    "\n",
    "    Args:\n",
    "        data: Data containing features and target.\n",
    "        parameters: Parameters defined in parameters/data_science.yml.\n",
    "    Returns:\n",
    "        Split data.\n",
    "    \"\"\"\n",
    "    # X = data[parameters[\"features\"]]\n",
    "    X = data[parameters[\"features\"]].drop(\"Scope 3\", axis=1)\n",
    "    y = data[\"Scope 3\"]\n",
    "    X_train, X_test, y_train, y_test = train_test_split(\n",
    "        X, y, test_size=parameters[\"test_size\"], random_state=parameters[\"random_state\"]\n",
    "    )\n",
    "    return X_train, X_test, y_train, y_test"
   ]
  },
  {
   "cell_type": "code",
   "execution_count": null,
   "metadata": {
    "canvas": {
     "comments": [],
     "componentType": "CodeCell",
     "copiedOriginId": null,
     "diskcache": false,
     "headerColor": "transparent",
     "id": "00035b06-a5bf-4880-8349-23a092e2ff0a",
     "isComponent": false,
     "name": "",
     "parents": []
    }
   },
   "outputs": [],
   "source": [
    "parameters = catalog.load(\"params:model_options\")"
   ]
  },
  {
   "cell_type": "code",
   "execution_count": null,
   "metadata": {
    "canvas": {
     "comments": [],
     "componentType": "CodeCell",
     "copiedOriginId": null,
     "diskcache": false,
     "headerColor": "transparent",
     "id": "672957f5-664a-4915-9d44-6ed17c9dd872",
     "isComponent": false,
     "name": "",
     "parents": []
    }
   },
   "outputs": [],
   "source": [
    "# Assuming df_feature_engineered is your DataFrame and parameters is your configuration dictionary\n",
    "X_train, X_test, y_train, y_test = split_data(df_feature_engineered, parameters)"
   ]
  },
  {
   "cell_type": "markdown",
   "metadata": {
    "canvas": {
     "comments": [],
     "componentType": "CodeCell",
     "copiedOriginId": null,
     "diskcache": false,
     "headerColor": "transparent",
     "id": "5b842705-ccdf-4de9-86c9-b86b3db508f1",
     "isComponent": false,
     "name": "",
     "parents": []
    }
   },
   "source": [
    "## Train"
   ]
  },
  {
   "cell_type": "markdown",
   "metadata": {
    "canvas": {
     "comments": [],
     "componentType": "CodeCell",
     "copiedOriginId": null,
     "diskcache": false,
     "headerColor": "transparent",
     "id": "e60fc8a2-b879-460a-b3e1-91026dd6ebba",
     "isComponent": false,
     "name": "",
     "parents": []
    }
   },
   "source": [
    "## AutoML modeling"
   ]
  },
  {
   "cell_type": "code",
   "execution_count": null,
   "metadata": {
    "canvas": {
     "comments": [],
     "componentType": "CodeCell",
     "copiedOriginId": null,
     "diskcache": false,
     "headerColor": "transparent",
     "id": "250a06cd-ba17-4339-830c-89c757f0845b",
     "isComponent": false,
     "name": "",
     "parents": []
    }
   },
   "outputs": [],
   "source": [
    "import xgboost as xgb\n",
    "from sklearn.metrics import mean_squared_error, r2_score\n",
    "import logging\n",
    "import pandas as pd\n",
    "from typing import Any\n",
    "\n",
    "def train_model(X_train: pd.DataFrame, y_train: pd.Series) -> Any:\n",
    "    \"\"\"Trains the XGBoost model.\n",
    "    \n",
    "    Args:\n",
    "        X_train: Training data of independent features.\n",
    "        y_train: Training data for target variable.\n",
    "        \n",
    "    Returns:\n",
    "        Trained model.\n",
    "    \"\"\"\n",
    "    params = {\n",
    "        'alpha': 9.418025790529975e-05,\n",
    "        'colsample_bytree': 0.73850137825373,\n",
    "        'eta': 0.03756810920990241,\n",
    "        'gamma': 1.8103086083962833e-05,\n",
    "        'lambda': 0.006052853661670603,\n",
    "        'max_depth': 4,\n",
    "        'min_child_weight': 1.0000000000000004e-06,\n",
    "        'objective': 'reg:squarederror',\n",
    "        'subsample': 0.8954379516782436,\n",
    "        'eval_metric': ['rmse', 'mae']\n",
    "    }\n",
    "    dtrain = xgb.DMatrix(X_train, label=y_train)\n",
    "    model = xgb.train(params, dtrain, num_boost_round=674)\n",
    "    return model"
   ]
  },
  {
   "cell_type": "code",
   "execution_count": null,
   "metadata": {
    "canvas": {
     "comments": [],
     "componentType": "CodeCell",
     "copiedOriginId": null,
     "diskcache": false,
     "headerColor": "transparent",
     "id": "baa900dc-0b98-4787-9a56-89a9c44351b8",
     "isComponent": false,
     "name": "",
     "parents": []
    }
   },
   "outputs": [],
   "source": [
    "# Train the model\n",
    "trained_model = train_model(X_train, y_train)"
   ]
  },
  {
   "cell_type": "markdown",
   "metadata": {
    "canvas": {
     "comments": [],
     "componentType": "CodeCell",
     "copiedOriginId": null,
     "diskcache": false,
     "headerColor": "transparent",
     "id": "5e9746c5-2ec6-4714-9c31-ba4f858da2d8",
     "isComponent": false,
     "name": "",
     "parents": []
    }
   },
   "source": [
    "# Evaluation"
   ]
  },
  {
   "cell_type": "code",
   "execution_count": null,
   "metadata": {
    "canvas": {
     "comments": [],
     "componentType": "CodeCell",
     "copiedOriginId": null,
     "diskcache": false,
     "headerColor": "transparent",
     "id": "0100350e-c1f7-4755-b1b2-e4b961211c1a",
     "isComponent": false,
     "name": "",
     "parents": []
    }
   },
   "outputs": [],
   "source": [
    "def evaluate_model(model: Any, X_test: pd.DataFrame, y_test: pd.Series):\n",
    "    \"\"\"Calculates and logs the coefficient of determination and RMSE.\n",
    "    \n",
    "    Args:\n",
    "        model: Trained XGBoost model.\n",
    "        X_test: Testing data of independent features.\n",
    "        y_test: Testing data for target variable.\n",
    "    \"\"\"\n",
    "    dtest = xgb.DMatrix(X_test, label=y_test)\n",
    "    y_pred = model.predict(dtest)\n",
    "    score = r2_score(y_test, y_pred)\n",
    "    rmse = mean_squared_error(y_test, y_pred, squared=False)\n",
    "    \n",
    "    print(f\"Model has a coefficient R^2 of {score:.3f} on test data.\")\n",
    "    print(f\"Model has a RMSE of {rmse:.3f} on test data.\")\n",
    "    \n",
    "    logger = logging.getLogger(__name__)\n",
    "    logger.info(f\"Model has a coefficient R^2 of {score:.3f} on test data.\")\n",
    "    logger.info(f\"Model has a RMSE of {rmse:.3f} on test data.\")"
   ]
  },
  {
   "cell_type": "code",
   "execution_count": null,
   "metadata": {
    "canvas": {
     "comments": [],
     "componentType": "CodeCell",
     "copiedOriginId": null,
     "diskcache": false,
     "headerColor": "transparent",
     "id": "ab20eee7-96a3-41a4-a9ee-41e55b83d7b9",
     "isComponent": false,
     "name": "",
     "parents": []
    }
   },
   "outputs": [],
   "source": [
    "# Evaluate the model\n",
    "evaluate_model(trained_model, X_test, y_test)"
   ]
  },
  {
   "cell_type": "markdown",
   "metadata": {
    "canvas": {
     "comments": [],
     "componentType": "CodeCell",
     "copiedOriginId": null,
     "diskcache": false,
     "headerColor": "transparent",
     "id": "c1af0938-b5db-4475-87a0-0067d0460a17",
     "isComponent": false,
     "name": "",
     "parents": []
    }
   },
   "source": [
    "# Hyperparameter tuning"
   ]
  },
  {
   "cell_type": "code",
   "execution_count": null,
   "metadata": {
    "canvas": {
     "comments": [],
     "componentType": "CodeCell",
     "copiedOriginId": null,
     "diskcache": false,
     "headerColor": "transparent",
     "id": "cda8ceef-19b0-4157-b4e1-3f74c6153f79",
     "isComponent": false,
     "name": "",
     "parents": []
    }
   },
   "outputs": [],
   "source": []
  },
  {
   "cell_type": "markdown",
   "metadata": {
    "canvas": {
     "comments": [],
     "componentType": "CodeCell",
     "copiedOriginId": null,
     "diskcache": false,
     "headerColor": "transparent",
     "id": "06f59ed9-71aa-443e-8b1d-7902a5510851",
     "isComponent": false,
     "name": "",
     "parents": []
    }
   },
   "source": [
    "# Model Interpretation"
   ]
  },
  {
   "cell_type": "code",
   "execution_count": null,
   "metadata": {
    "canvas": {
     "comments": [],
     "componentType": "CodeCell",
     "copiedOriginId": null,
     "diskcache": false,
     "headerColor": "transparent",
     "id": "1b47ab3c-42ac-44ef-84bf-03b2d7e42a5a",
     "isComponent": false,
     "name": "",
     "parents": []
    }
   },
   "outputs": [],
   "source": []
  },
  {
   "cell_type": "markdown",
   "metadata": {
    "canvas": {
     "comments": [],
     "componentType": "CodeCell",
     "copiedOriginId": null,
     "diskcache": false,
     "headerColor": "transparent",
     "id": "89b5390b-305f-40a1-93c9-044c514a9b19",
     "isComponent": false,
     "name": "",
     "parents": []
    }
   },
   "source": [
    "# Results and conclusions"
   ]
  },
  {
   "cell_type": "code",
   "execution_count": null,
   "metadata": {
    "canvas": {
     "comments": [],
     "componentType": "CodeCell",
     "copiedOriginId": null,
     "diskcache": false,
     "headerColor": "transparent",
     "id": "1a0086c3-ba0b-49a6-9da0-80e85201b036",
     "isComponent": false,
     "name": "",
     "parents": []
    }
   },
   "outputs": [],
   "source": []
  },
  {
   "cell_type": "markdown",
   "metadata": {
    "canvas": {
     "comments": [],
     "componentType": "CodeCell",
     "copiedOriginId": null,
     "diskcache": false,
     "headerColor": "transparent",
     "id": "0d106976-aa47-4709-ae3f-41a6a2e5db67",
     "isComponent": false,
     "name": "",
     "parents": []
    }
   },
   "source": [
    "# References and Acknowledgments\n",
    "```"
   ]
  },
  {
   "cell_type": "markdown",
   "metadata": {
    "canvas": {
     "comments": [],
     "componentType": "CodeCell",
     "copiedOriginId": null,
     "diskcache": false,
     "headerColor": "transparent",
     "id": "4409999b-f0bc-4088-8e5f-3d0a4ce4c08f",
     "isComponent": false,
     "name": "",
     "parents": []
    }
   },
   "source": []
  }
 ],
 "metadata": {
  "canvas": {
   "colorPalette": [
    "inherit",
    "inherit",
    "inherit",
    "inherit",
    "inherit",
    "inherit",
    "inherit",
    "inherit",
    "inherit",
    "inherit"
   ],
   "parameters": [],
   "version": "1.0"
  },
  "kernelspec": {
   "display_name": "Python 3 (ipykernel)",
   "language": "python",
   "name": "python3"
  },
  "language_info": {
   "codemirror_mode": {
    "name": "ipython",
    "version": 3
   },
   "file_extension": ".py",
   "mimetype": "text/x-python",
   "name": "python",
   "nbconvert_exporter": "python",
   "pygments_lexer": "ipython3",
   "version": "3.10.13"
  }
 },
 "nbformat": 4,
 "nbformat_minor": 4
}
